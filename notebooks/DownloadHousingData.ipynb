{
 "cells": [
  {
   "cell_type": "markdown",
   "id": "61b80398-4ed7-457c-bd03-46025818325f",
   "metadata": {},
   "source": [
    "# Variables of households and population of Mexican Municipalities in 2020\n",
    "\n",
    "This notebook downloads households and population data of Mexican Municipalities (admin2) derived from the 2020 Mexican Census: [INEGI](https://inegi.org.mx/programas/ccpv/2020/#Datos_abiertos). It saves the data in the compressed Parquet format for downstream analysis."
   ]
  },
  {
   "cell_type": "code",
   "execution_count": 1,
   "id": "1ca12c28-6f66-49cf-b5d2-829838b28369",
   "metadata": {},
   "outputs": [],
   "source": [
    "import pandas as pd\n",
    "from io import BytesIO\n",
    "from urllib.request import urlopen\n",
    "from zipfile import ZipFile"
   ]
  },
  {
   "cell_type": "markdown",
   "id": "5164fca9-2dcd-4f6d-beef-7ca75022f597",
   "metadata": {},
   "source": [
    "### Download the zip file from the INEGI website"
   ]
  },
  {
   "cell_type": "code",
   "execution_count": 2,
   "id": "471f036a-3c06-48b5-99aa-d32eb2936878",
   "metadata": {},
   "outputs": [],
   "source": [
    "url = 'https://inegi.org.mx/contenidos/programas/ccpv/2020/datosabiertos/iter/iter_00_cpv2020_csv.zip'"
   ]
  },
  {
   "cell_type": "code",
   "execution_count": 3,
   "id": "d32010e7-1cb6-4c0a-900c-41690ad40040",
   "metadata": {},
   "outputs": [],
   "source": [
    "response = urlopen(url)"
   ]
  },
  {
   "cell_type": "markdown",
   "id": "f29f27be-5c32-4bba-8bfd-406dfb188240",
   "metadata": {},
   "source": [
    "### Read zip file and list files"
   ]
  },
  {
   "cell_type": "code",
   "execution_count": null,
   "id": "8eaa259a-5573-47e1-b1e4-f0d5cafdcbc8",
   "metadata": {},
   "outputs": [],
   "source": [
    "zip = ZipFile(BytesIO(response.read()))\n",
    "\n",
    "for file in zip.infolist():\n",
    "    print(file.filename)"
   ]
  },
  {
   "cell_type": "markdown",
   "id": "4ec485fc-2145-4f72-87a4-694e02d9ded5",
   "metadata": {},
   "source": [
    "### Extract the file conjunto_de_datos_iter_00CSV20.csv from the zip file"
   ]
  },
  {
   "cell_type": "code",
   "execution_count": null,
   "id": "cb63a23d-a0dc-4da5-a0fa-e919315f4903",
   "metadata": {},
   "outputs": [],
   "source": [
    "content = zip.read('conjunto_de_datos/conjunto_de_datos_iter_00CSV20.csv')"
   ]
  },
  {
   "cell_type": "markdown",
   "id": "ccd116ea-83c0-4658-8df8-0c82a3594418",
   "metadata": {},
   "source": [
    "Read the csv file into a Pandas Dataframe"
   ]
  },
  {
   "cell_type": "code",
   "execution_count": null,
   "id": "55ee53ba-2671-4c39-9a01-60ca380e93ba",
   "metadata": {},
   "outputs": [],
   "source": [
    "df = pd.read_csv(BytesIO(content), low_memory=False)\n",
    "df.fillna('')"
   ]
  },
  {
   "cell_type": "code",
   "execution_count": null,
   "id": "28b677ad-8641-43e1-b958-ae3561795b9a",
   "metadata": {},
   "outputs": [],
   "source": [
    "df.head()"
   ]
  },
  {
   "cell_type": "markdown",
   "id": "14bf3e15-9364-48ae-a2fe-8df7c4a72c41",
   "metadata": {},
   "source": [
    "### Save the dataframe in the compressed parquet format"
   ]
  },
  {
   "cell_type": "code",
   "execution_count": null,
   "id": "214c93cf-a8e7-4f2a-8a80-be1273a58a23",
   "metadata": {},
   "outputs": [],
   "source": [
    "df.to_parquet('../data/conjunto_de_datos_iter_00CSV20.parquet', compression='brotli', index=False)"
   ]
  }
 ],
 "metadata": {
  "kernelspec": {
   "display_name": "Python 3 (ipykernel)",
   "language": "python",
   "name": "python3"
  },
  "language_info": {
   "codemirror_mode": {
    "name": "ipython",
    "version": 3
   },
   "file_extension": ".py",
   "mimetype": "text/x-python",
   "name": "python",
   "nbconvert_exporter": "python",
   "pygments_lexer": "ipython3",
   "version": "3.9.6"
  }
 },
 "nbformat": 4,
 "nbformat_minor": 5
}
