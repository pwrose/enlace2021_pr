{
 "cells": [
  {
   "cell_type": "markdown",
   "id": "a4b305cc-142a-4f05-ba41-53ea4bb5b1b3",
   "metadata": {},
   "source": [
    "# SARS-CoV-2 Variants in Mexico"
   ]
  },
  {
   "cell_type": "code",
   "execution_count": 1,
   "id": "f351c5d3-22c6-4644-a8e5-76aff5b5ca51",
   "metadata": {},
   "outputs": [],
   "source": [
    "import pandas as pd\n",
    "import ipywidgets as widgets\n",
    "import numpy as np\n",
    "import seaborn as sns"
   ]
  },
  {
   "cell_type": "code",
   "execution_count": 2,
   "id": "9ab7f145-ac0b-499b-9f89-8591f343c05a",
   "metadata": {},
   "outputs": [],
   "source": [
    "pd.options.display.max_rows = None  # display all rows\n",
    "pd.options.display.max_columns = None  # display all columsns"
   ]
  },
  {
   "cell_type": "markdown",
   "id": "583b8ecd-adcc-41a6-a1f9-13ee35eea81d",
   "metadata": {},
   "source": [
    "## Read SARS-CoV-2 variant data for Mexico"
   ]
  },
  {
   "cell_type": "code",
   "execution_count": 3,
   "id": "ced43c74-8a25-4d80-933e-e84ecea69c1e",
   "metadata": {},
   "outputs": [],
   "source": [
    "url = 'https://raw.githubusercontent.com/sbl-sdsc/sars-cov-2-variants/main/data/variants.parquet'"
   ]
  },
  {
   "cell_type": "code",
   "execution_count": 4,
   "id": "4ea8d94e-2e6b-4727-b313-c9a8a3ca37a2",
   "metadata": {},
   "outputs": [],
   "source": [
    "df = pd.read_parquet(url, columns=['name','lineage','location','collectionDate'])"
   ]
  },
  {
   "cell_type": "code",
   "execution_count": 5,
   "id": "4cb118f2-ef5d-42ba-a39e-7ca6675a3cd5",
   "metadata": {},
   "outputs": [
    {
     "name": "stdout",
     "output_type": "stream",
     "text": [
      "(2764634, 4)\n"
     ]
    },
    {
     "data": {
      "text/html": [
       "<div>\n",
       "<style scoped>\n",
       "    .dataframe tbody tr th:only-of-type {\n",
       "        vertical-align: middle;\n",
       "    }\n",
       "\n",
       "    .dataframe tbody tr th {\n",
       "        vertical-align: top;\n",
       "    }\n",
       "\n",
       "    .dataframe thead th {\n",
       "        text-align: right;\n",
       "    }\n",
       "</style>\n",
       "<table border=\"1\" class=\"dataframe\">\n",
       "  <thead>\n",
       "    <tr style=\"text-align: right;\">\n",
       "      <th></th>\n",
       "      <th>name</th>\n",
       "      <th>lineage</th>\n",
       "      <th>location</th>\n",
       "      <th>collectionDate</th>\n",
       "    </tr>\n",
       "  </thead>\n",
       "  <tbody>\n",
       "    <tr>\n",
       "      <th>0</th>\n",
       "      <td>BetaCoV/Wuhan/HBCDC-HB-01/2019</td>\n",
       "      <td>B.1.36.10</td>\n",
       "      <td>China / Hubei</td>\n",
       "      <td>2019-12-30</td>\n",
       "    </tr>\n",
       "    <tr>\n",
       "      <th>1</th>\n",
       "      <td>hCoV-19/Thailand/74/2020</td>\n",
       "      <td>B</td>\n",
       "      <td>Thailand/ Nonthaburi Province</td>\n",
       "      <td>2020-01-13</td>\n",
       "    </tr>\n",
       "    <tr>\n",
       "      <th>2</th>\n",
       "      <td>hCoV-19/Thailand/61/2020</td>\n",
       "      <td>B</td>\n",
       "      <td>Thailand/ Nonthaburi Province</td>\n",
       "      <td>2020-01-08</td>\n",
       "    </tr>\n",
       "    <tr>\n",
       "      <th>3</th>\n",
       "      <td>BetaCoV/Wuhan/IVDC-HB-04/2020</td>\n",
       "      <td>B</td>\n",
       "      <td>China / Hubei / Wuhan</td>\n",
       "      <td>2020-01-01</td>\n",
       "    </tr>\n",
       "    <tr>\n",
       "      <th>4</th>\n",
       "      <td>BetaCoV/Wuhan/IVDC-HB-01/2019</td>\n",
       "      <td>B</td>\n",
       "      <td>China / Hubei / Wuhan</td>\n",
       "      <td>2019-12-30</td>\n",
       "    </tr>\n",
       "  </tbody>\n",
       "</table>\n",
       "</div>"
      ],
      "text/plain": [
       "                             name    lineage                       location  \\\n",
       "0  BetaCoV/Wuhan/HBCDC-HB-01/2019  B.1.36.10                  China / Hubei   \n",
       "1        hCoV-19/Thailand/74/2020          B  Thailand/ Nonthaburi Province   \n",
       "2        hCoV-19/Thailand/61/2020          B  Thailand/ Nonthaburi Province   \n",
       "3   BetaCoV/Wuhan/IVDC-HB-04/2020          B          China / Hubei / Wuhan   \n",
       "4   BetaCoV/Wuhan/IVDC-HB-01/2019          B          China / Hubei / Wuhan   \n",
       "\n",
       "  collectionDate  \n",
       "0     2019-12-30  \n",
       "1     2020-01-13  \n",
       "2     2020-01-08  \n",
       "3     2020-01-01  \n",
       "4     2019-12-30  "
      ]
     },
     "execution_count": 5,
     "metadata": {},
     "output_type": "execute_result"
    }
   ],
   "source": [
    "print(df.shape)\n",
    "df.head()"
   ]
  },
  {
   "cell_type": "markdown",
   "id": "eeb914c6-33e9-4b7c-84e1-e4e6fa838322",
   "metadata": {},
   "source": [
    "Split location into components"
   ]
  },
  {
   "cell_type": "code",
   "execution_count": 6,
   "id": "6d8e5a31-c9b3-4866-a6a0-e0ad9e6013bd",
   "metadata": {},
   "outputs": [],
   "source": [
    "df[['loc0', 'loc1', 'loc2', 'loc3']] = df['location'].str.split('/', n=3, expand=True)\n",
    "# strip white space\n",
    "df = df.apply(lambda x: x.str.strip() if x.dtype == \"object\" else x)\n",
    "df.fillna('', inplace=True)"
   ]
  },
  {
   "cell_type": "code",
   "execution_count": 7,
   "id": "69f11bfd-ad43-45e4-91c9-aab9b1ec2e5f",
   "metadata": {},
   "outputs": [],
   "source": [
    "dfm = df.query('loc0 == \"Mexico\"').copy()"
   ]
  },
  {
   "cell_type": "code",
   "execution_count": 8,
   "id": "91d00d85-ca11-406e-9031-0f77276f903b",
   "metadata": {},
   "outputs": [
    {
     "name": "stdout",
     "output_type": "stream",
     "text": [
      "(18563, 8)\n"
     ]
    },
    {
     "data": {
      "text/html": [
       "<div>\n",
       "<style scoped>\n",
       "    .dataframe tbody tr th:only-of-type {\n",
       "        vertical-align: middle;\n",
       "    }\n",
       "\n",
       "    .dataframe tbody tr th {\n",
       "        vertical-align: top;\n",
       "    }\n",
       "\n",
       "    .dataframe thead th {\n",
       "        text-align: right;\n",
       "    }\n",
       "</style>\n",
       "<table border=\"1\" class=\"dataframe\">\n",
       "  <thead>\n",
       "    <tr style=\"text-align: right;\">\n",
       "      <th></th>\n",
       "      <th>name</th>\n",
       "      <th>lineage</th>\n",
       "      <th>location</th>\n",
       "      <th>collectionDate</th>\n",
       "      <th>loc0</th>\n",
       "      <th>loc1</th>\n",
       "      <th>loc2</th>\n",
       "      <th>loc3</th>\n",
       "    </tr>\n",
       "  </thead>\n",
       "  <tbody>\n",
       "    <tr>\n",
       "      <th>241</th>\n",
       "      <td>hCoV-19/Mexico/CDMX-InDRE_01/2020</td>\n",
       "      <td>B.1.1</td>\n",
       "      <td>Mexico / Mexico City</td>\n",
       "      <td>2020-02-27</td>\n",
       "      <td>Mexico</td>\n",
       "      <td>Mexico City</td>\n",
       "      <td></td>\n",
       "      <td></td>\n",
       "    </tr>\n",
       "    <tr>\n",
       "      <th>6761</th>\n",
       "      <td>hCoV-19/Mexico/CDMX-INER_01/2020</td>\n",
       "      <td>B.1.234</td>\n",
       "      <td>Mexico / Mexico City</td>\n",
       "      <td>2020-03-12</td>\n",
       "      <td>Mexico</td>\n",
       "      <td>Mexico City</td>\n",
       "      <td></td>\n",
       "      <td></td>\n",
       "    </tr>\n",
       "    <tr>\n",
       "      <th>6764</th>\n",
       "      <td>hCoV-19/Mexico/CDMX-INER_02/2020</td>\n",
       "      <td>B.1</td>\n",
       "      <td>Mexico / Mexico City</td>\n",
       "      <td>2020-03-13</td>\n",
       "      <td>Mexico</td>\n",
       "      <td>Mexico City</td>\n",
       "      <td></td>\n",
       "      <td></td>\n",
       "    </tr>\n",
       "    <tr>\n",
       "      <th>7028</th>\n",
       "      <td>hCoV-19/Mexico/CDMX-INER_03/2020</td>\n",
       "      <td>B</td>\n",
       "      <td>Mexico / Mexico City</td>\n",
       "      <td>2020-03-13</td>\n",
       "      <td>Mexico</td>\n",
       "      <td>Mexico City</td>\n",
       "      <td></td>\n",
       "      <td></td>\n",
       "    </tr>\n",
       "    <tr>\n",
       "      <th>7029</th>\n",
       "      <td>hCoV-19/Mexico/CDMX-INER_04/2020</td>\n",
       "      <td>B.1.201</td>\n",
       "      <td>Mexico / Mexico City</td>\n",
       "      <td>2020-03-15</td>\n",
       "      <td>Mexico</td>\n",
       "      <td>Mexico City</td>\n",
       "      <td></td>\n",
       "      <td></td>\n",
       "    </tr>\n",
       "  </tbody>\n",
       "</table>\n",
       "</div>"
      ],
      "text/plain": [
       "                                   name  lineage              location  \\\n",
       "241   hCoV-19/Mexico/CDMX-InDRE_01/2020    B.1.1  Mexico / Mexico City   \n",
       "6761   hCoV-19/Mexico/CDMX-INER_01/2020  B.1.234  Mexico / Mexico City   \n",
       "6764   hCoV-19/Mexico/CDMX-INER_02/2020      B.1  Mexico / Mexico City   \n",
       "7028   hCoV-19/Mexico/CDMX-INER_03/2020        B  Mexico / Mexico City   \n",
       "7029   hCoV-19/Mexico/CDMX-INER_04/2020  B.1.201  Mexico / Mexico City   \n",
       "\n",
       "     collectionDate    loc0         loc1 loc2 loc3  \n",
       "241      2020-02-27  Mexico  Mexico City            \n",
       "6761     2020-03-12  Mexico  Mexico City            \n",
       "6764     2020-03-13  Mexico  Mexico City            \n",
       "7028     2020-03-13  Mexico  Mexico City            \n",
       "7029     2020-03-15  Mexico  Mexico City            "
      ]
     },
     "execution_count": 8,
     "metadata": {},
     "output_type": "execute_result"
    }
   ],
   "source": [
    "print(dfm.shape)\n",
    "dfm.head()"
   ]
  },
  {
   "cell_type": "code",
   "execution_count": 9,
   "id": "9c6fc5af-6831-472d-b936-ff0fde61d826",
   "metadata": {},
   "outputs": [],
   "source": [
    "dfm['loc1'].replace({'BC': \"Baja California\"}, inplace=True)\n",
    "dfm['loc2'].replace({'BajaCalifornia': \"Baja California\"}, inplace=True)"
   ]
  },
  {
   "cell_type": "code",
   "execution_count": 10,
   "id": "a63e3fde-d649-4e35-8b21-673d8d6b9e37",
   "metadata": {},
   "outputs": [
    {
     "data": {
      "text/html": [
       "<div>\n",
       "<style scoped>\n",
       "    .dataframe tbody tr th:only-of-type {\n",
       "        vertical-align: middle;\n",
       "    }\n",
       "\n",
       "    .dataframe tbody tr th {\n",
       "        vertical-align: top;\n",
       "    }\n",
       "\n",
       "    .dataframe thead th {\n",
       "        text-align: right;\n",
       "    }\n",
       "</style>\n",
       "<table border=\"1\" class=\"dataframe\">\n",
       "  <thead>\n",
       "    <tr style=\"text-align: right;\">\n",
       "      <th></th>\n",
       "      <th>name</th>\n",
       "      <th>lineage</th>\n",
       "      <th>location</th>\n",
       "      <th>collectionDate</th>\n",
       "      <th>loc0</th>\n",
       "      <th>loc1</th>\n",
       "      <th>loc2</th>\n",
       "      <th>loc3</th>\n",
       "    </tr>\n",
       "  </thead>\n",
       "  <tbody>\n",
       "    <tr>\n",
       "      <th>241</th>\n",
       "      <td>hCoV-19/Mexico/CDMX-InDRE_01/2020</td>\n",
       "      <td>B.1.1</td>\n",
       "      <td>Mexico / Mexico City</td>\n",
       "      <td>2020-02-27</td>\n",
       "      <td>Mexico</td>\n",
       "      <td>Mexico City</td>\n",
       "      <td></td>\n",
       "      <td></td>\n",
       "    </tr>\n",
       "    <tr>\n",
       "      <th>6761</th>\n",
       "      <td>hCoV-19/Mexico/CDMX-INER_01/2020</td>\n",
       "      <td>B.1.234</td>\n",
       "      <td>Mexico / Mexico City</td>\n",
       "      <td>2020-03-12</td>\n",
       "      <td>Mexico</td>\n",
       "      <td>Mexico City</td>\n",
       "      <td></td>\n",
       "      <td></td>\n",
       "    </tr>\n",
       "    <tr>\n",
       "      <th>6764</th>\n",
       "      <td>hCoV-19/Mexico/CDMX-INER_02/2020</td>\n",
       "      <td>B.1</td>\n",
       "      <td>Mexico / Mexico City</td>\n",
       "      <td>2020-03-13</td>\n",
       "      <td>Mexico</td>\n",
       "      <td>Mexico City</td>\n",
       "      <td></td>\n",
       "      <td></td>\n",
       "    </tr>\n",
       "    <tr>\n",
       "      <th>7028</th>\n",
       "      <td>hCoV-19/Mexico/CDMX-INER_03/2020</td>\n",
       "      <td>B</td>\n",
       "      <td>Mexico / Mexico City</td>\n",
       "      <td>2020-03-13</td>\n",
       "      <td>Mexico</td>\n",
       "      <td>Mexico City</td>\n",
       "      <td></td>\n",
       "      <td></td>\n",
       "    </tr>\n",
       "    <tr>\n",
       "      <th>7029</th>\n",
       "      <td>hCoV-19/Mexico/CDMX-INER_04/2020</td>\n",
       "      <td>B.1.201</td>\n",
       "      <td>Mexico / Mexico City</td>\n",
       "      <td>2020-03-15</td>\n",
       "      <td>Mexico</td>\n",
       "      <td>Mexico City</td>\n",
       "      <td></td>\n",
       "      <td></td>\n",
       "    </tr>\n",
       "  </tbody>\n",
       "</table>\n",
       "</div>"
      ],
      "text/plain": [
       "                                   name  lineage              location  \\\n",
       "241   hCoV-19/Mexico/CDMX-InDRE_01/2020    B.1.1  Mexico / Mexico City   \n",
       "6761   hCoV-19/Mexico/CDMX-INER_01/2020  B.1.234  Mexico / Mexico City   \n",
       "6764   hCoV-19/Mexico/CDMX-INER_02/2020      B.1  Mexico / Mexico City   \n",
       "7028   hCoV-19/Mexico/CDMX-INER_03/2020        B  Mexico / Mexico City   \n",
       "7029   hCoV-19/Mexico/CDMX-INER_04/2020  B.1.201  Mexico / Mexico City   \n",
       "\n",
       "     collectionDate    loc0         loc1 loc2 loc3  \n",
       "241      2020-02-27  Mexico  Mexico City            \n",
       "6761     2020-03-12  Mexico  Mexico City            \n",
       "6764     2020-03-13  Mexico  Mexico City            \n",
       "7028     2020-03-13  Mexico  Mexico City            \n",
       "7029     2020-03-15  Mexico  Mexico City            "
      ]
     },
     "execution_count": 10,
     "metadata": {},
     "output_type": "execute_result"
    }
   ],
   "source": [
    "dfm.head()"
   ]
  },
  {
   "cell_type": "code",
   "execution_count": 11,
   "id": "54c5c618-7641-4528-a4c8-a3b53daee75f",
   "metadata": {},
   "outputs": [],
   "source": [
    "dfm.query('collectionDate < \"2021-07-31\"', inplace=True)"
   ]
  },
  {
   "cell_type": "code",
   "execution_count": 12,
   "id": "bfad6105-c384-42e5-9645-6a854105c095",
   "metadata": {},
   "outputs": [],
   "source": [
    "top = 10 # number of top lineages for visualization"
   ]
  },
  {
   "cell_type": "code",
   "execution_count": 13,
   "id": "e2c04fbb-26cc-423a-88ae-e2efd7987941",
   "metadata": {},
   "outputs": [],
   "source": [
    "top_lineages = dfm.groupby('lineage').size().reset_index(name='count')"
   ]
  },
  {
   "cell_type": "code",
   "execution_count": 14,
   "id": "b585cbe0-51ff-4254-8011-43a132b480a0",
   "metadata": {},
   "outputs": [
    {
     "data": {
      "text/html": [
       "<div>\n",
       "<style scoped>\n",
       "    .dataframe tbody tr th:only-of-type {\n",
       "        vertical-align: middle;\n",
       "    }\n",
       "\n",
       "    .dataframe tbody tr th {\n",
       "        vertical-align: top;\n",
       "    }\n",
       "\n",
       "    .dataframe thead th {\n",
       "        text-align: right;\n",
       "    }\n",
       "</style>\n",
       "<table border=\"1\" class=\"dataframe\">\n",
       "  <thead>\n",
       "    <tr style=\"text-align: right;\">\n",
       "      <th></th>\n",
       "      <th>lineage</th>\n",
       "      <th>count</th>\n",
       "    </tr>\n",
       "  </thead>\n",
       "  <tbody>\n",
       "    <tr>\n",
       "      <th>0</th>\n",
       "      <td></td>\n",
       "      <td>88</td>\n",
       "    </tr>\n",
       "    <tr>\n",
       "      <th>1</th>\n",
       "      <td>A</td>\n",
       "      <td>1</td>\n",
       "    </tr>\n",
       "    <tr>\n",
       "      <th>2</th>\n",
       "      <td>A.1</td>\n",
       "      <td>8</td>\n",
       "    </tr>\n",
       "    <tr>\n",
       "      <th>3</th>\n",
       "      <td>A.2</td>\n",
       "      <td>3</td>\n",
       "    </tr>\n",
       "    <tr>\n",
       "      <th>4</th>\n",
       "      <td>A.2.5</td>\n",
       "      <td>41</td>\n",
       "    </tr>\n",
       "  </tbody>\n",
       "</table>\n",
       "</div>"
      ],
      "text/plain": [
       "  lineage  count\n",
       "0             88\n",
       "1       A      1\n",
       "2     A.1      8\n",
       "3     A.2      3\n",
       "4   A.2.5     41"
      ]
     },
     "execution_count": 14,
     "metadata": {},
     "output_type": "execute_result"
    }
   ],
   "source": [
    "top_lineages.head()"
   ]
  },
  {
   "cell_type": "code",
   "execution_count": 15,
   "id": "3891a628-c47f-4588-bec1-8597f678a78a",
   "metadata": {},
   "outputs": [],
   "source": [
    "top_lineages.sort_values(['count'], inplace=True, ascending=False)"
   ]
  },
  {
   "cell_type": "code",
   "execution_count": 16,
   "id": "fe5d7baf-4645-4fc9-b5ba-9d4bbc224301",
   "metadata": {},
   "outputs": [
    {
     "data": {
      "text/html": [
       "<div>\n",
       "<style scoped>\n",
       "    .dataframe tbody tr th:only-of-type {\n",
       "        vertical-align: middle;\n",
       "    }\n",
       "\n",
       "    .dataframe tbody tr th {\n",
       "        vertical-align: top;\n",
       "    }\n",
       "\n",
       "    .dataframe thead th {\n",
       "        text-align: right;\n",
       "    }\n",
       "</style>\n",
       "<table border=\"1\" class=\"dataframe\">\n",
       "  <thead>\n",
       "    <tr style=\"text-align: right;\">\n",
       "      <th></th>\n",
       "      <th>lineage</th>\n",
       "      <th>count</th>\n",
       "    </tr>\n",
       "  </thead>\n",
       "  <tbody>\n",
       "    <tr>\n",
       "      <th>61</th>\n",
       "      <td>B.1.1.519</td>\n",
       "      <td>7690</td>\n",
       "    </tr>\n",
       "    <tr>\n",
       "      <th>167</th>\n",
       "      <td>P.1</td>\n",
       "      <td>1742</td>\n",
       "    </tr>\n",
       "    <tr>\n",
       "      <th>64</th>\n",
       "      <td>B.1.1.7</td>\n",
       "      <td>1674</td>\n",
       "    </tr>\n",
       "    <tr>\n",
       "      <th>153</th>\n",
       "      <td>B.1.617.2</td>\n",
       "      <td>1603</td>\n",
       "    </tr>\n",
       "    <tr>\n",
       "      <th>15</th>\n",
       "      <td>B.1</td>\n",
       "      <td>770</td>\n",
       "    </tr>\n",
       "  </tbody>\n",
       "</table>\n",
       "</div>"
      ],
      "text/plain": [
       "       lineage  count\n",
       "61   B.1.1.519   7690\n",
       "167        P.1   1742\n",
       "64     B.1.1.7   1674\n",
       "153  B.1.617.2   1603\n",
       "15         B.1    770"
      ]
     },
     "execution_count": 16,
     "metadata": {},
     "output_type": "execute_result"
    }
   ],
   "source": [
    "top_lineages.head()"
   ]
  },
  {
   "cell_type": "code",
   "execution_count": 17,
   "id": "2ea0b454-67ce-4e2d-b5fd-4aac94d2fd4f",
   "metadata": {},
   "outputs": [],
   "source": [
    "top_lineages = top_lineages.head(top)"
   ]
  },
  {
   "cell_type": "code",
   "execution_count": 18,
   "id": "85546827-1c17-4ba7-9397-61d656994e7a",
   "metadata": {},
   "outputs": [
    {
     "data": {
      "text/html": [
       "<div>\n",
       "<style scoped>\n",
       "    .dataframe tbody tr th:only-of-type {\n",
       "        vertical-align: middle;\n",
       "    }\n",
       "\n",
       "    .dataframe tbody tr th {\n",
       "        vertical-align: top;\n",
       "    }\n",
       "\n",
       "    .dataframe thead th {\n",
       "        text-align: right;\n",
       "    }\n",
       "</style>\n",
       "<table border=\"1\" class=\"dataframe\">\n",
       "  <thead>\n",
       "    <tr style=\"text-align: right;\">\n",
       "      <th></th>\n",
       "      <th>lineage</th>\n",
       "      <th>count</th>\n",
       "    </tr>\n",
       "  </thead>\n",
       "  <tbody>\n",
       "    <tr>\n",
       "      <th>61</th>\n",
       "      <td>B.1.1.519</td>\n",
       "      <td>7690</td>\n",
       "    </tr>\n",
       "    <tr>\n",
       "      <th>167</th>\n",
       "      <td>P.1</td>\n",
       "      <td>1742</td>\n",
       "    </tr>\n",
       "    <tr>\n",
       "      <th>64</th>\n",
       "      <td>B.1.1.7</td>\n",
       "      <td>1674</td>\n",
       "    </tr>\n",
       "    <tr>\n",
       "      <th>153</th>\n",
       "      <td>B.1.617.2</td>\n",
       "      <td>1603</td>\n",
       "    </tr>\n",
       "    <tr>\n",
       "      <th>15</th>\n",
       "      <td>B.1</td>\n",
       "      <td>770</td>\n",
       "    </tr>\n",
       "    <tr>\n",
       "      <th>28</th>\n",
       "      <td>B.1.1.222</td>\n",
       "      <td>652</td>\n",
       "    </tr>\n",
       "    <tr>\n",
       "      <th>168</th>\n",
       "      <td>P.1.1</td>\n",
       "      <td>465</td>\n",
       "    </tr>\n",
       "    <tr>\n",
       "      <th>88</th>\n",
       "      <td>B.1.243</td>\n",
       "      <td>435</td>\n",
       "    </tr>\n",
       "    <tr>\n",
       "      <th>16</th>\n",
       "      <td>B.1.1</td>\n",
       "      <td>274</td>\n",
       "    </tr>\n",
       "    <tr>\n",
       "      <th>159</th>\n",
       "      <td>B.1.628</td>\n",
       "      <td>266</td>\n",
       "    </tr>\n",
       "  </tbody>\n",
       "</table>\n",
       "</div>"
      ],
      "text/plain": [
       "       lineage  count\n",
       "61   B.1.1.519   7690\n",
       "167        P.1   1742\n",
       "64     B.1.1.7   1674\n",
       "153  B.1.617.2   1603\n",
       "15         B.1    770\n",
       "28   B.1.1.222    652\n",
       "168      P.1.1    465\n",
       "88     B.1.243    435\n",
       "16       B.1.1    274\n",
       "159    B.1.628    266"
      ]
     },
     "execution_count": 18,
     "metadata": {},
     "output_type": "execute_result"
    }
   ],
   "source": [
    "top_lineages.head(100)"
   ]
  },
  {
   "cell_type": "code",
   "execution_count": 19,
   "id": "efb63710-5ef1-4c95-8bdd-3b53f0da45be",
   "metadata": {},
   "outputs": [],
   "source": [
    "legend = top_lineages['lineage'].values"
   ]
  },
  {
   "cell_type": "code",
   "execution_count": 20,
   "id": "6995c721-19f1-427d-a62a-4c2785c90da9",
   "metadata": {},
   "outputs": [
    {
     "data": {
      "text/plain": [
       "array(['B.1.1.519', 'P.1', 'B.1.1.7', 'B.1.617.2', 'B.1', 'B.1.1.222',\n",
       "       'P.1.1', 'B.1.243', 'B.1.1', 'B.1.628'], dtype=object)"
      ]
     },
     "execution_count": 20,
     "metadata": {},
     "output_type": "execute_result"
    }
   ],
   "source": [
    "legend"
   ]
  },
  {
   "cell_type": "code",
   "execution_count": 21,
   "id": "c7af2895-738e-40ac-9dd8-1658b54c2b13",
   "metadata": {},
   "outputs": [
    {
     "name": "stdout",
     "output_type": "stream",
     "text": [
      "Top 10 lineages: ['B.1.1.519' 'P.1' 'B.1.1.7' 'B.1.617.2' 'B.1' 'B.1.1.222' 'P.1.1'\n",
      " 'B.1.243' 'B.1.1' 'B.1.628' 'other']\n"
     ]
    }
   ],
   "source": [
    "legend = np.append(legend, 'other')\n",
    "print(f'Top {top} lineages:', legend)"
   ]
  },
  {
   "cell_type": "code",
   "execution_count": 22,
   "id": "d0c4b550-86c5-46d2-b0c8-6cde1fcd0e54",
   "metadata": {},
   "outputs": [],
   "source": [
    "dfm['lineage'] = dfm['lineage'].apply(lambda x: x if x in legend else 'other')"
   ]
  },
  {
   "cell_type": "code",
   "execution_count": 23,
   "id": "e22edb8d-730c-4606-9d34-f8684b346ec0",
   "metadata": {},
   "outputs": [
    {
     "data": {
      "image/png": "[encoded data removed]",
      "text/plain": [
       "<Figure size 734.975x648 with 1 Axes>"
      ]
     },
     "metadata": {},
     "output_type": "display_data"
    }
   ],
   "source": [
    "sns.set_theme(style=\"whitegrid\")\n",
    "sns.displot(dfm, x=\"collectionDate\", hue=\"lineage\", hue_order=legend, kind=\"kde\",\n",
    "            height=9, multiple=\"fill\", cut=0, palette=\"ch:rot=-.25,hue=1,light=.75\").fig.autofmt_xdate();"
   ]
  },
  {
   "cell_type": "code",
   "execution_count": null,
   "id": "8671563e-795f-4832-b324-8860e398e0fc",
   "metadata": {},
   "outputs": [],
   "source": []
  }
 ],
 "metadata": {
  "kernelspec": {
   "display_name": "Python 3 (ipykernel)",
   "language": "python",
   "name": "python3"
  },
  "language_info": {
   "codemirror_mode": {
    "name": "ipython",
    "version": 3
   },
   "file_extension": ".py",
   "mimetype": "text/x-python",
   "name": "python",
   "nbconvert_exporter": "python",
   "pygments_lexer": "ipython3",
   "version": "3.9.6"
  }
 },
 "nbformat": 4,
 "nbformat_minor": 5
}
