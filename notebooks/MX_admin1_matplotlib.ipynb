{
 "cells": [
  {
   "cell_type": "markdown",
   "id": "a4b305cc-142a-4f05-ba41-53ea4bb5b1b3",
   "metadata": {},
   "source": [
    "# Plotting Mexican Administrative Boundaries\n",
    "[Data sources](../data/README.md)"
   ]
  },
  {
   "cell_type": "code",
   "execution_count": 1,
   "id": "f351c5d3-22c6-4644-a8e5-76aff5b5ca51",
   "metadata": {},
   "outputs": [],
   "source": [
    "import pandas as pd\n",
    "import geopandas as gpd\n",
    "import matplotlib.pyplot as plt\n",
    "import ipywidgets as widgets"
   ]
  },
  {
   "cell_type": "code",
   "execution_count": 2,
   "id": "9ab7f145-ac0b-499b-9f89-8591f343c05a",
   "metadata": {},
   "outputs": [],
   "source": [
    "pd.options.display.max_rows = None  # display all rows\n",
    "pd.options.display.max_columns = None  # display all columsns"
   ]
  },
  {
   "cell_type": "markdown",
   "id": "583b8ecd-adcc-41a6-a1f9-13ee35eea81d",
   "metadata": {},
   "source": [
    "## Boundaries of Mexican States"
   ]
  },
  {
   "cell_type": "markdown",
   "id": "44b7bcd8-0320-439b-961f-de0d391b8bfb",
   "metadata": {},
   "source": [
    "Read boundary polygons for Mexican states from shapefile"
   ]
  },
  {
   "cell_type": "code",
   "execution_count": 11,
   "id": "d39d3826-8a87-43e9-b86f-1206d002da32",
   "metadata": {},
   "outputs": [],
   "source": [
    "admin1 = gpd.read_file('../data/mex_admbnda_govmex_20210618_SHP/mex_admbnda_adm1_govmex_20210618.shp')"
   ]
  },
  {
   "cell_type": "code",
   "execution_count": 12,
   "id": "82af90fa-49d5-4564-9660-e4759ffec806",
   "metadata": {},
   "outputs": [
    {
     "data": {
      "text/html": [
       "<div>\n",
       "<style scoped>\n",
       "    .dataframe tbody tr th:only-of-type {\n",
       "        vertical-align: middle;\n",
       "    }\n",
       "\n",
       "    .dataframe tbody tr th {\n",
       "        vertical-align: top;\n",
       "    }\n",
       "\n",
       "    .dataframe thead th {\n",
       "        text-align: right;\n",
       "    }\n",
       "</style>\n",
       "<table border=\"1\" class=\"dataframe\">\n",
       "  <thead>\n",
       "    <tr style=\"text-align: right;\">\n",
       "      <th></th>\n",
       "      <th>ADM1_ES</th>\n",
       "      <th>ADM1_PCODE</th>\n",
       "      <th>ADM1_REF</th>\n",
       "      <th>ADM1ALT1ES</th>\n",
       "      <th>ADM1ALT2ES</th>\n",
       "      <th>ADM0_ES</th>\n",
       "      <th>ADM0_PCODE</th>\n",
       "      <th>date</th>\n",
       "      <th>validOn</th>\n",
       "      <th>validTo</th>\n",
       "      <th>Shape_Leng</th>\n",
       "      <th>Shape_Area</th>\n",
       "      <th>geometry</th>\n",
       "    </tr>\n",
       "  </thead>\n",
       "  <tbody>\n",
       "    <tr>\n",
       "      <th>0</th>\n",
       "      <td>Aguascalientes</td>\n",
       "      <td>MX01</td>\n",
       "      <td>None</td>\n",
       "      <td>None</td>\n",
       "      <td>None</td>\n",
       "      <td>México</td>\n",
       "      <td>MX</td>\n",
       "      <td>2020-06-23</td>\n",
       "      <td>2021-06-18</td>\n",
       "      <td>None</td>\n",
       "      <td>3.993483</td>\n",
       "      <td>0.491151</td>\n",
       "      <td>POLYGON ((-102.28787 22.41649, -102.28753 22.4...</td>\n",
       "    </tr>\n",
       "    <tr>\n",
       "      <th>1</th>\n",
       "      <td>Baja California</td>\n",
       "      <td>MX02</td>\n",
       "      <td>None</td>\n",
       "      <td>None</td>\n",
       "      <td>None</td>\n",
       "      <td>México</td>\n",
       "      <td>MX</td>\n",
       "      <td>2020-06-23</td>\n",
       "      <td>2021-06-18</td>\n",
       "      <td>None</td>\n",
       "      <td>29.414983</td>\n",
       "      <td>6.851318</td>\n",
       "      <td>MULTIPOLYGON (((-114.12880 28.01224, -114.1283...</td>\n",
       "    </tr>\n",
       "    <tr>\n",
       "      <th>2</th>\n",
       "      <td>Baja California Sur</td>\n",
       "      <td>MX03</td>\n",
       "      <td>None</td>\n",
       "      <td>None</td>\n",
       "      <td>None</td>\n",
       "      <td>México</td>\n",
       "      <td>MX</td>\n",
       "      <td>2020-06-23</td>\n",
       "      <td>2021-06-18</td>\n",
       "      <td>None</td>\n",
       "      <td>51.783353</td>\n",
       "      <td>6.486020</td>\n",
       "      <td>MULTIPOLYGON (((-109.91027 22.87937, -109.9102...</td>\n",
       "    </tr>\n",
       "    <tr>\n",
       "      <th>3</th>\n",
       "      <td>Campeche</td>\n",
       "      <td>MX04</td>\n",
       "      <td>None</td>\n",
       "      <td>None</td>\n",
       "      <td>None</td>\n",
       "      <td>México</td>\n",
       "      <td>MX</td>\n",
       "      <td>2020-06-23</td>\n",
       "      <td>2021-06-18</td>\n",
       "      <td>None</td>\n",
       "      <td>27.833408</td>\n",
       "      <td>4.757845</td>\n",
       "      <td>MULTIPOLYGON (((-91.55007 18.28726, -91.55142 ...</td>\n",
       "    </tr>\n",
       "    <tr>\n",
       "      <th>4</th>\n",
       "      <td>Chiapas</td>\n",
       "      <td>MX07</td>\n",
       "      <td>None</td>\n",
       "      <td>None</td>\n",
       "      <td>None</td>\n",
       "      <td>México</td>\n",
       "      <td>MX</td>\n",
       "      <td>2020-06-23</td>\n",
       "      <td>2021-06-18</td>\n",
       "      <td>None</td>\n",
       "      <td>26.835058</td>\n",
       "      <td>6.150488</td>\n",
       "      <td>MULTIPOLYGON (((-92.77034 15.15128, -92.77107 ...</td>\n",
       "    </tr>\n",
       "    <tr>\n",
       "      <th>5</th>\n",
       "      <td>Chihuahua</td>\n",
       "      <td>MX08</td>\n",
       "      <td>None</td>\n",
       "      <td>None</td>\n",
       "      <td>None</td>\n",
       "      <td>México</td>\n",
       "      <td>MX</td>\n",
       "      <td>2020-06-23</td>\n",
       "      <td>2021-06-18</td>\n",
       "      <td>None</td>\n",
       "      <td>30.076365</td>\n",
       "      <td>22.873546</td>\n",
       "      <td>POLYGON ((-106.55794 31.78388, -106.52852 31.7...</td>\n",
       "    </tr>\n",
       "    <tr>\n",
       "      <th>6</th>\n",
       "      <td>Coahuila de Zaragoza</td>\n",
       "      <td>MX05</td>\n",
       "      <td>None</td>\n",
       "      <td>None</td>\n",
       "      <td>None</td>\n",
       "      <td>México</td>\n",
       "      <td>MX</td>\n",
       "      <td>2020-06-23</td>\n",
       "      <td>2021-06-18</td>\n",
       "      <td>None</td>\n",
       "      <td>22.963062</td>\n",
       "      <td>13.822337</td>\n",
       "      <td>POLYGON ((-102.31079 29.87695, -102.31050 29.8...</td>\n",
       "    </tr>\n",
       "    <tr>\n",
       "      <th>7</th>\n",
       "      <td>Colima</td>\n",
       "      <td>MX06</td>\n",
       "      <td>None</td>\n",
       "      <td>None</td>\n",
       "      <td>None</td>\n",
       "      <td>México</td>\n",
       "      <td>MX</td>\n",
       "      <td>2020-06-23</td>\n",
       "      <td>2021-06-18</td>\n",
       "      <td>None</td>\n",
       "      <td>6.242778</td>\n",
       "      <td>0.494913</td>\n",
       "      <td>MULTIPOLYGON (((-114.72650 18.36037, -114.7219...</td>\n",
       "    </tr>\n",
       "    <tr>\n",
       "      <th>8</th>\n",
       "      <td>Distrito Federal</td>\n",
       "      <td>MX09</td>\n",
       "      <td>None</td>\n",
       "      <td>None</td>\n",
       "      <td>None</td>\n",
       "      <td>México</td>\n",
       "      <td>MX</td>\n",
       "      <td>2020-06-23</td>\n",
       "      <td>2021-06-18</td>\n",
       "      <td>None</td>\n",
       "      <td>1.920709</td>\n",
       "      <td>0.128447</td>\n",
       "      <td>POLYGON ((-99.11124 19.56150, -99.11485 19.557...</td>\n",
       "    </tr>\n",
       "    <tr>\n",
       "      <th>9</th>\n",
       "      <td>Durango</td>\n",
       "      <td>MX10</td>\n",
       "      <td>None</td>\n",
       "      <td>None</td>\n",
       "      <td>None</td>\n",
       "      <td>México</td>\n",
       "      <td>MX</td>\n",
       "      <td>2020-06-23</td>\n",
       "      <td>2021-06-18</td>\n",
       "      <td>None</td>\n",
       "      <td>23.712606</td>\n",
       "      <td>11.026861</td>\n",
       "      <td>POLYGON ((-105.96732 26.78554, -105.93919 26.7...</td>\n",
       "    </tr>\n",
       "  </tbody>\n",
       "</table>\n",
       "</div>"
      ],
      "text/plain": [
       "                ADM1_ES ADM1_PCODE ADM1_REF ADM1ALT1ES ADM1ALT2ES ADM0_ES  \\\n",
       "0        Aguascalientes       MX01     None       None       None  México   \n",
       "1       Baja California       MX02     None       None       None  México   \n",
       "2   Baja California Sur       MX03     None       None       None  México   \n",
       "3              Campeche       MX04     None       None       None  México   \n",
       "4               Chiapas       MX07     None       None       None  México   \n",
       "5             Chihuahua       MX08     None       None       None  México   \n",
       "6  Coahuila de Zaragoza       MX05     None       None       None  México   \n",
       "7                Colima       MX06     None       None       None  México   \n",
       "8      Distrito Federal       MX09     None       None       None  México   \n",
       "9               Durango       MX10     None       None       None  México   \n",
       "\n",
       "  ADM0_PCODE        date     validOn validTo  Shape_Leng  Shape_Area  \\\n",
       "0         MX  2020-06-23  2021-06-18    None    3.993483    0.491151   \n",
       "1         MX  2020-06-23  2021-06-18    None   29.414983    6.851318   \n",
       "2         MX  2020-06-23  2021-06-18    None   51.783353    6.486020   \n",
       "3         MX  2020-06-23  2021-06-18    None   27.833408    4.757845   \n",
       "4         MX  2020-06-23  2021-06-18    None   26.835058    6.150488   \n",
       "5         MX  2020-06-23  2021-06-18    None   30.076365   22.873546   \n",
       "6         MX  2020-06-23  2021-06-18    None   22.963062   13.822337   \n",
       "7         MX  2020-06-23  2021-06-18    None    6.242778    0.494913   \n",
       "8         MX  2020-06-23  2021-06-18    None    1.920709    0.128447   \n",
       "9         MX  2020-06-23  2021-06-18    None   23.712606   11.026861   \n",
       "\n",
       "                                            geometry  \n",
       "0  POLYGON ((-102.28787 22.41649, -102.28753 22.4...  \n",
       "1  MULTIPOLYGON (((-114.12880 28.01224, -114.1283...  \n",
       "2  MULTIPOLYGON (((-109.91027 22.87937, -109.9102...  \n",
       "3  MULTIPOLYGON (((-91.55007 18.28726, -91.55142 ...  \n",
       "4  MULTIPOLYGON (((-92.77034 15.15128, -92.77107 ...  \n",
       "5  POLYGON ((-106.55794 31.78388, -106.52852 31.7...  \n",
       "6  POLYGON ((-102.31079 29.87695, -102.31050 29.8...  \n",
       "7  MULTIPOLYGON (((-114.72650 18.36037, -114.7219...  \n",
       "8  POLYGON ((-99.11124 19.56150, -99.11485 19.557...  \n",
       "9  POLYGON ((-105.96732 26.78554, -105.93919 26.7...  "
      ]
     },
     "execution_count": 12,
     "metadata": {},
     "output_type": "execute_result"
    }
   ],
   "source": [
    "admin1.head(10)"
   ]
  },
  {
   "cell_type": "code",
   "execution_count": 13,
   "id": "73acf9ac-0e12-45e0-be59-1cd4670c9d37",
   "metadata": {},
   "outputs": [
    {
     "data": {
      "image/png": "[encoded data removed]",
      "text/plain": [
       "<Figure size 432x288 with 1 Axes>"
      ]
     },
     "metadata": {
      "needs_background": "light"
     },
     "output_type": "display_data"
    }
   ],
   "source": [
    "admin1.plot();"
   ]
  },
  {
   "cell_type": "markdown",
   "id": "87283d90-e32e-416d-baed-540793090ac2",
   "metadata": {},
   "source": [
    "## Map of Population by State"
   ]
  },
  {
   "cell_type": "markdown",
   "id": "61ee7d39-0ba2-4377-aeea-e99daf2866b8",
   "metadata": {},
   "source": [
    "Get population from COVID-19 data files"
   ]
  },
  {
   "cell_type": "code",
   "execution_count": 14,
   "id": "036ac035-1019-46a6-a01e-c41d4d522785",
   "metadata": {},
   "outputs": [],
   "source": [
    "population_admin1 = pd.read_csv('../data/Casos_Diarios_Estado_Nacional_Defunciones_20210627.csv', \n",
    "                                usecols=['cve_ent', 'poblacion', 'nombre'])"
   ]
  },
  {
   "cell_type": "code",
   "execution_count": 15,
   "id": "4d953b75-edb4-48ec-98a9-c476078fd5c3",
   "metadata": {},
   "outputs": [
    {
     "data": {
      "text/html": [
       "<div>\n",
       "<style scoped>\n",
       "    .dataframe tbody tr th:only-of-type {\n",
       "        vertical-align: middle;\n",
       "    }\n",
       "\n",
       "    .dataframe tbody tr th {\n",
       "        vertical-align: top;\n",
       "    }\n",
       "\n",
       "    .dataframe thead th {\n",
       "        text-align: right;\n",
       "    }\n",
       "</style>\n",
       "<table border=\"1\" class=\"dataframe\">\n",
       "  <thead>\n",
       "    <tr style=\"text-align: right;\">\n",
       "      <th></th>\n",
       "      <th>cve_ent</th>\n",
       "      <th>poblacion</th>\n",
       "      <th>nombre</th>\n",
       "    </tr>\n",
       "  </thead>\n",
       "  <tbody>\n",
       "    <tr>\n",
       "      <th>0</th>\n",
       "      <td>1</td>\n",
       "      <td>1434635</td>\n",
       "      <td>AGUASCALIENTES</td>\n",
       "    </tr>\n",
       "    <tr>\n",
       "      <th>1</th>\n",
       "      <td>2</td>\n",
       "      <td>3634868</td>\n",
       "      <td>BAJA CALIFORNIA</td>\n",
       "    </tr>\n",
       "    <tr>\n",
       "      <th>2</th>\n",
       "      <td>3</td>\n",
       "      <td>804708</td>\n",
       "      <td>BAJA CALIFORNIA SUR</td>\n",
       "    </tr>\n",
       "    <tr>\n",
       "      <th>3</th>\n",
       "      <td>4</td>\n",
       "      <td>1000617</td>\n",
       "      <td>CAMPECHE</td>\n",
       "    </tr>\n",
       "    <tr>\n",
       "      <th>4</th>\n",
       "      <td>7</td>\n",
       "      <td>5730367</td>\n",
       "      <td>CHIAPAS</td>\n",
       "    </tr>\n",
       "  </tbody>\n",
       "</table>\n",
       "</div>"
      ],
      "text/plain": [
       "   cve_ent  poblacion               nombre\n",
       "0        1    1434635       AGUASCALIENTES\n",
       "1        2    3634868      BAJA CALIFORNIA\n",
       "2        3     804708  BAJA CALIFORNIA SUR\n",
       "3        4    1000617             CAMPECHE\n",
       "4        7    5730367              CHIAPAS"
      ]
     },
     "execution_count": 15,
     "metadata": {},
     "output_type": "execute_result"
    }
   ],
   "source": [
    "population_admin1.head()"
   ]
  },
  {
   "cell_type": "markdown",
   "id": "a868954e-4476-4560-8eb8-ccb742d85755",
   "metadata": {},
   "source": [
    "Add Admin1 code column (example: convert 1 -> MX01)"
   ]
  },
  {
   "cell_type": "code",
   "execution_count": 16,
   "id": "be10e8cb-f9b2-4d83-90ce-60a498c52f4b",
   "metadata": {},
   "outputs": [],
   "source": [
    "population_admin1['ADM1_PCODE'] = population_admin1['cve_ent'].apply(lambda i: f'MX{i:02d}')"
   ]
  },
  {
   "cell_type": "code",
   "execution_count": 17,
   "id": "905cd9ec-8ef0-46ac-818f-7931f1c57f32",
   "metadata": {},
   "outputs": [
    {
     "data": {
      "text/html": [
       "<div>\n",
       "<style scoped>\n",
       "    .dataframe tbody tr th:only-of-type {\n",
       "        vertical-align: middle;\n",
       "    }\n",
       "\n",
       "    .dataframe tbody tr th {\n",
       "        vertical-align: top;\n",
       "    }\n",
       "\n",
       "    .dataframe thead th {\n",
       "        text-align: right;\n",
       "    }\n",
       "</style>\n",
       "<table border=\"1\" class=\"dataframe\">\n",
       "  <thead>\n",
       "    <tr style=\"text-align: right;\">\n",
       "      <th></th>\n",
       "      <th>cve_ent</th>\n",
       "      <th>poblacion</th>\n",
       "      <th>nombre</th>\n",
       "      <th>ADM1_PCODE</th>\n",
       "    </tr>\n",
       "  </thead>\n",
       "  <tbody>\n",
       "    <tr>\n",
       "      <th>0</th>\n",
       "      <td>1</td>\n",
       "      <td>1434635</td>\n",
       "      <td>AGUASCALIENTES</td>\n",
       "      <td>MX01</td>\n",
       "    </tr>\n",
       "    <tr>\n",
       "      <th>1</th>\n",
       "      <td>2</td>\n",
       "      <td>3634868</td>\n",
       "      <td>BAJA CALIFORNIA</td>\n",
       "      <td>MX02</td>\n",
       "    </tr>\n",
       "  </tbody>\n",
       "</table>\n",
       "</div>"
      ],
      "text/plain": [
       "   cve_ent  poblacion           nombre ADM1_PCODE\n",
       "0        1    1434635   AGUASCALIENTES       MX01\n",
       "1        2    3634868  BAJA CALIFORNIA       MX02"
      ]
     },
     "execution_count": 17,
     "metadata": {},
     "output_type": "execute_result"
    }
   ],
   "source": [
    "population_admin1.head(2)"
   ]
  },
  {
   "cell_type": "markdown",
   "id": "5f1bf65e-b3d5-4833-b1eb-d26d945b0b9c",
   "metadata": {},
   "source": [
    "Merge the boundary dataframe with the population dataframe using the ADM1_PCODE column"
   ]
  },
  {
   "cell_type": "code",
   "execution_count": 18,
   "id": "7afd2eef-3849-4adb-aa8a-c136749a572b",
   "metadata": {},
   "outputs": [],
   "source": [
    "df_admin1 = admin1.merge(population_admin1, on='ADM1_PCODE')"
   ]
  },
  {
   "cell_type": "code",
   "execution_count": 19,
   "id": "e41cfcd3-6100-4507-92a7-885151414d68",
   "metadata": {},
   "outputs": [
    {
     "data": {
      "text/html": [
       "<div>\n",
       "<style scoped>\n",
       "    .dataframe tbody tr th:only-of-type {\n",
       "        vertical-align: middle;\n",
       "    }\n",
       "\n",
       "    .dataframe tbody tr th {\n",
       "        vertical-align: top;\n",
       "    }\n",
       "\n",
       "    .dataframe thead th {\n",
       "        text-align: right;\n",
       "    }\n",
       "</style>\n",
       "<table border=\"1\" class=\"dataframe\">\n",
       "  <thead>\n",
       "    <tr style=\"text-align: right;\">\n",
       "      <th></th>\n",
       "      <th>ADM1_ES</th>\n",
       "      <th>ADM1_PCODE</th>\n",
       "      <th>ADM1_REF</th>\n",
       "      <th>ADM1ALT1ES</th>\n",
       "      <th>ADM1ALT2ES</th>\n",
       "      <th>ADM0_ES</th>\n",
       "      <th>ADM0_PCODE</th>\n",
       "      <th>date</th>\n",
       "      <th>validOn</th>\n",
       "      <th>validTo</th>\n",
       "      <th>Shape_Leng</th>\n",
       "      <th>Shape_Area</th>\n",
       "      <th>geometry</th>\n",
       "      <th>cve_ent</th>\n",
       "      <th>poblacion</th>\n",
       "      <th>nombre</th>\n",
       "    </tr>\n",
       "  </thead>\n",
       "  <tbody>\n",
       "    <tr>\n",
       "      <th>0</th>\n",
       "      <td>Aguascalientes</td>\n",
       "      <td>MX01</td>\n",
       "      <td>None</td>\n",
       "      <td>None</td>\n",
       "      <td>None</td>\n",
       "      <td>México</td>\n",
       "      <td>MX</td>\n",
       "      <td>2020-06-23</td>\n",
       "      <td>2021-06-18</td>\n",
       "      <td>None</td>\n",
       "      <td>3.993483</td>\n",
       "      <td>0.491151</td>\n",
       "      <td>POLYGON ((-102.28787 22.41649, -102.28753 22.4...</td>\n",
       "      <td>1</td>\n",
       "      <td>1434635</td>\n",
       "      <td>AGUASCALIENTES</td>\n",
       "    </tr>\n",
       "    <tr>\n",
       "      <th>1</th>\n",
       "      <td>Baja California</td>\n",
       "      <td>MX02</td>\n",
       "      <td>None</td>\n",
       "      <td>None</td>\n",
       "      <td>None</td>\n",
       "      <td>México</td>\n",
       "      <td>MX</td>\n",
       "      <td>2020-06-23</td>\n",
       "      <td>2021-06-18</td>\n",
       "      <td>None</td>\n",
       "      <td>29.414983</td>\n",
       "      <td>6.851318</td>\n",
       "      <td>MULTIPOLYGON (((-114.12880 28.01224, -114.1283...</td>\n",
       "      <td>2</td>\n",
       "      <td>3634868</td>\n",
       "      <td>BAJA CALIFORNIA</td>\n",
       "    </tr>\n",
       "  </tbody>\n",
       "</table>\n",
       "</div>"
      ],
      "text/plain": [
       "           ADM1_ES ADM1_PCODE ADM1_REF ADM1ALT1ES ADM1ALT2ES ADM0_ES  \\\n",
       "0   Aguascalientes       MX01     None       None       None  México   \n",
       "1  Baja California       MX02     None       None       None  México   \n",
       "\n",
       "  ADM0_PCODE        date     validOn validTo  Shape_Leng  Shape_Area  \\\n",
       "0         MX  2020-06-23  2021-06-18    None    3.993483    0.491151   \n",
       "1         MX  2020-06-23  2021-06-18    None   29.414983    6.851318   \n",
       "\n",
       "                                            geometry  cve_ent  poblacion  \\\n",
       "0  POLYGON ((-102.28787 22.41649, -102.28753 22.4...        1    1434635   \n",
       "1  MULTIPOLYGON (((-114.12880 28.01224, -114.1283...        2    3634868   \n",
       "\n",
       "            nombre  \n",
       "0   AGUASCALIENTES  \n",
       "1  BAJA CALIFORNIA  "
      ]
     },
     "execution_count": 19,
     "metadata": {},
     "output_type": "execute_result"
    }
   ],
   "source": [
    "df_admin1.head(2)"
   ]
  },
  {
   "cell_type": "markdown",
   "id": "13eb1129-6db3-42d2-a051-e06b6074ac0b",
   "metadata": {},
   "source": [
    "Plot population data"
   ]
  },
  {
   "cell_type": "code",
   "execution_count": 20,
   "id": "ddf33c25-d32f-4dbb-ae83-5f100b3389b7",
   "metadata": {},
   "outputs": [
    {
     "data": {
      "image/png": "[encoded data removed]",
      "text/plain": [
       "<Figure size 1152x792 with 2 Axes>"
      ]
     },
     "metadata": {
      "needs_background": "light"
     },
     "output_type": "display_data"
    }
   ],
   "source": [
    "title = 'Population of Mexico by State'\n",
    "ax1 = df_admin1.plot(column='poblacion', \n",
    "                     cmap='OrRd',\n",
    "                     legend=True, \n",
    "                     legend_kwds={'label': 'Population by State', \n",
    "                                  'orientation': 'horizontal'},\n",
    "                     figsize=(16, 11));\n",
    "ax1.set_title(title, fontsize=15);"
   ]
  }
 ],
 "metadata": {
  "kernelspec": {
   "display_name": "Python 3 (ipykernel)",
   "language": "python",
   "name": "python3"
  },
  "language_info": {
   "codemirror_mode": {
    "name": "ipython",
    "version": 3
   },
   "file_extension": ".py",
   "mimetype": "text/x-python",
   "name": "python",
   "nbconvert_exporter": "python",
   "pygments_lexer": "ipython3",
   "version": "3.9.6"
  }
 },
 "nbformat": 4,
 "nbformat_minor": 5
}
